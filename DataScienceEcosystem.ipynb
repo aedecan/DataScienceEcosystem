{
 "cells": [
  {
   "cell_type": "markdown",
   "metadata": {},
   "source": [
    "<center>\n",
    "    <img src=\"https://cf-courses-data.s3.us.cloud-object-storage.appdomain.cloud/IBMDeveloperSkillsNetwork-DS0105EN-SkillsNetwork/labs/Module2/images/SN_web_lightmode.png\" width=\"300\" alt=\"cognitiveclass.ai logo\">\n",
    "</center>\n"
   ]
  },
  {
   "cell_type": "markdown",
   "metadata": {},
   "source": [
    "#### Add your code below following the instructions given in the course\n"
   ]
  },
  {
   "cell_type": "markdown",
   "metadata": {},
   "source": [
    "# Data Science Tools and Ecosystem"
   ]
  },
  {
   "cell_type": "markdown",
   "metadata": {},
   "source": [
    "## In this notebook, Data Science Tools and Ecosystem are summarized."
   ]
  },
  {
   "cell_type": "markdown",
   "metadata": {},
   "source": [
    "## Some of the popular languages that Data Scientists use are:"
   ]
  },
  {
   "cell_type": "code",
   "execution_count": 6,
   "metadata": {
    "tags": []
   },
   "outputs": [
    {
     "name": "stdout",
     "output_type": "stream",
     "text": [
      "1. Julia\n",
      "2. Python\n",
      "3. R\n",
      "4. SQL\n"
     ]
    }
   ],
   "source": [
    "my_list = ['Python', 'R', 'SQL', 'Julia']\n",
    "\n",
    "sorted_list = sorted(my_list)\n",
    "\n",
    "for index, item in enumerate(sorted_list, start=1):\n",
    "    print(f\"{index}. {item}\")"
   ]
  },
  {
   "cell_type": "markdown",
   "metadata": {},
   "source": [
    "## Some of the commonly used libraries used by Data Scientists include:"
   ]
  },
  {
   "cell_type": "code",
   "execution_count": 7,
   "metadata": {
    "tags": []
   },
   "outputs": [
    {
     "name": "stdout",
     "output_type": "stream",
     "text": [
      "1. Matplotlib\n",
      "2. NumPy\n",
      "3. Pandas\n",
      "4. Scikit-learn\n"
     ]
    }
   ],
   "source": [
    "lib_list=('NumPy','Pandas','Matplotlib','Scikit-learn')\n",
    "\n",
    "ordered_lib_list=sorted(lib_list)\n",
    "\n",
    "for index_lib, item in enumerate(ordered_lib_list, start=1):\n",
    "    print(f\"{index_lib}. {item}\")"
   ]
  },
  {
   "cell_type": "markdown",
   "metadata": {},
   "source": [
    "## Data Science Tools"
   ]
  },
  {
   "cell_type": "code",
   "execution_count": 26,
   "metadata": {
    "tags": []
   },
   "outputs": [
    {
     "name": "stdout",
     "output_type": "stream",
     "text": [
      "╒══════════════════════╕\n",
      "│ Data Science Tools   │\n",
      "╞══════════════════════╡\n",
      "│ Jupyter Notebook     │\n",
      "├──────────────────────┤\n",
      "│ RStudio              │\n",
      "├──────────────────────┤\n",
      "│ VS Code              │\n",
      "╘══════════════════════╛\n"
     ]
    }
   ],
   "source": [
    "import pandas as pd\n",
    "\n",
    "from tabulate import tabulate\n",
    "\n",
    "data_tools = {'Data Science Tools': ['Jupyter Notebook', 'RStudio', 'VS Code']}\n",
    "\n",
    "df = pd.DataFrame(data_tools)\n",
    "\n",
    "table = tabulate(df, headers='keys', tablefmt='fancy_grid', showindex=False)\n",
    "\n",
    "print(table)\n"
   ]
  },
  {
   "cell_type": "markdown",
   "metadata": {},
   "source": [
    "### Below are a few examples of evaluating arithmetic expressions in Python:"
   ]
  },
  {
   "cell_type": "markdown",
   "metadata": {},
   "source": [
    "### This a simple arithmetic expression to mutiply then add integers:"
   ]
  },
  {
   "cell_type": "code",
   "execution_count": 10,
   "metadata": {
    "tags": []
   },
   "outputs": [
    {
     "name": "stdout",
     "output_type": "stream",
     "text": [
      "17\n"
     ]
    }
   ],
   "source": [
    "x=(3*4)+5\n",
    "print(x)"
   ]
  },
  {
   "cell_type": "markdown",
   "metadata": {},
   "source": [
    "### This will convert 200 minutes to hours by diving by 60:"
   ]
  },
  {
   "cell_type": "code",
   "execution_count": 11,
   "metadata": {
    "tags": []
   },
   "outputs": [
    {
     "name": "stdout",
     "output_type": "stream",
     "text": [
      "3.33\n"
     ]
    }
   ],
   "source": [
    "min = 200\n",
    "hrs = min/60\n",
    "hrs_rounded = round(hrs,2)\n",
    "print(hrs_rounded)\n",
    "# I added the 'round()' function to limit the decimals"
   ]
  },
  {
   "cell_type": "markdown",
   "metadata": {},
   "source": [
    "## **Objectives:**"
   ]
  },
  {
   "cell_type": "markdown",
   "metadata": {},
   "source": [
    "#### Objectives that this notebook covered:"
   ]
  },
  {
   "cell_type": "code",
   "execution_count": 27,
   "metadata": {
    "tags": []
   },
   "outputs": [
    {
     "name": "stdout",
     "output_type": "stream",
     "text": [
      "* Create a Jupyter Notebook\n",
      "* Create a markdown cell with the title\n",
      "* Create a markdown cell for an introduction\n",
      "* Create a markdown cell to list DS languages\n",
      "* Create a markdown cell to list DS \n",
      "* Create a markdown cell to list data DS\n",
      "* Create a markdown cell with a table of DS tools\n",
      "* Create a markdown cell introducing arithmetic expression examples\n",
      "* Create a code cell to multiply and add numbers\n",
      "* Create a code cell to convert minutes to hours\n",
      "* Insert a markdown cell to list Objectives\n",
      "* Create a markdown cell to indicate the Authors name\n"
     ]
    }
   ],
   "source": [
    "items = ['Create a Jupyter Notebook','Create a markdown cell with the title','Create a markdown cell for an introduction','Create a markdown cell to list DS languages','Create a markdown cell to list DS ','Create a markdown cell to list data DS','Create a markdown cell with a table of DS tools','Create a markdown cell introducing arithmetic expression examples','Create a code cell to multiply and add numbers','Create a code cell to convert minutes to hours','Insert a markdown cell to list Objectives','Create a markdown cell to indicate the Authors name']\n",
    "for item in items:\n",
    "    print(f\"* {item}\")\n",
    "            "
   ]
  },
  {
   "cell_type": "markdown",
   "metadata": {},
   "source": [
    "## **Auhor:**\n",
    "### *Alan Decan*\n",
    "### aedecan@gmail.com"
   ]
  }
 ],
 "metadata": {
  "kernelspec": {
   "display_name": "Python",
   "language": "python",
   "name": "conda-env-python-py"
  },
  "language_info": {
   "codemirror_mode": {
    "name": "ipython",
    "version": 3
   },
   "file_extension": ".py",
   "mimetype": "text/x-python",
   "name": "python",
   "nbconvert_exporter": "python",
   "pygments_lexer": "ipython3",
   "version": "3.7.12"
  }
 },
 "nbformat": 4,
 "nbformat_minor": 4
}
